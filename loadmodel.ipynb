{
 "cells": [
  {
   "cell_type": "code",
   "execution_count": 1,
   "metadata": {},
   "outputs": [],
   "source": [
    "import cv2\n",
    "import numpy as np\n",
    "import tensorflow as tf\n",
    "from tensorflow.keras.models import model_from_json\n",
    "from subprocess import call\n",
    "from IPython.display import display, clear_output\n",
    "from PIL import Image\n",
    "import seaborn as sn\n",
    "import pandas as pd"
   ]
  },
  {
   "cell_type": "code",
   "execution_count": 2,
   "metadata": {},
   "outputs": [
    {
     "name": "stdout",
     "output_type": "stream",
     "text": [
      "2.4.1\n"
     ]
    }
   ],
   "source": [
    "print(tf.__version__)"
   ]
  },
  {
   "cell_type": "code",
   "execution_count": 7,
   "metadata": {},
   "outputs": [],
   "source": [
    "model_name = './final_model/final_model'"
   ]
  },
  {
   "cell_type": "code",
   "execution_count": 8,
   "metadata": {},
   "outputs": [],
   "source": [
    "json_file = open(model_name+'.json', 'r')\n",
    "loaded_model_json = json_file.read()\n",
    "json_file.close()"
   ]
  },
  {
   "cell_type": "code",
   "execution_count": 9,
   "metadata": {},
   "outputs": [],
   "source": [
    "loaded_model = model_from_json(loaded_model_json)\n"
   ]
  },
  {
   "cell_type": "code",
   "execution_count": 10,
   "metadata": {},
   "outputs": [],
   "source": [
    "loaded_model.load_weights(model_name+\".h5\")\n"
   ]
  },
  {
   "cell_type": "code",
   "execution_count": null,
   "metadata": {},
   "outputs": [],
   "source": []
  },
  {
   "cell_type": "code",
   "execution_count": 11,
   "metadata": {},
   "outputs": [],
   "source": [
    "from helper import *"
   ]
  },
  {
   "cell_type": "code",
   "execution_count": null,
   "metadata": {},
   "outputs": [],
   "source": []
  },
  {
   "cell_type": "code",
   "execution_count": 12,
   "metadata": {},
   "outputs": [],
   "source": [
    "regions = {\n",
    "    0: 'topleft',\n",
    "    1: 'left',\n",
    "    2: 'bottomleft',\n",
    "    3: 'top',\n",
    "    4: 'middle',\n",
    "    5: 'bottom',\n",
    "    6: 'topright',\n",
    "    7: 'right',\n",
    "    8: 'bottomright'\n",
    "}"
   ]
  },
  {
   "cell_type": "code",
   "execution_count": 13,
   "metadata": {},
   "outputs": [],
   "source": [
    "GRID_SIZE = 4\n",
    "def convert_to_grid(arr):\n",
    "  n = np.argmax(arr)\n",
    "  # print(arr)\n",
    "  # return 'row '+str(n%grid_size)+', col '+str(n//grid_size)\n",
    "  return [n//GRID_SIZE, n%GRID_SIZE]"
   ]
  },
  {
   "cell_type": "code",
   "execution_count": 25,
   "metadata": {},
   "outputs": [],
   "source": [
    "def top_two(arr):\n",
    "    res = [[arr[i],i] for i in range(len(arr))]\n",
    "    res.sort(key=lambda x: x[0], reverse=True)\n",
    "    res = res[:2]\n",
    "    res[0][1] = regions[res[0][1]]\n",
    "    res[1][1] = regions[res[1][1]]\n",
    "    return res"
   ]
  },
  {
   "cell_type": "code",
   "execution_count": 26,
   "metadata": {},
   "outputs": [
    {
     "data": {
      "text/plain": [
       "[[1, 'left'], [1, 'middle']]"
      ]
     },
     "execution_count": 26,
     "metadata": {},
     "output_type": "execute_result"
    }
   ],
   "source": [
    "top_two([0,1,0,0,1,0,0,0,0])"
   ]
  },
  {
   "cell_type": "code",
   "execution_count": 14,
   "metadata": {},
   "outputs": [],
   "source": [
    "HEATMAP = [0 for _ in range(GRID_SIZE**2)]"
   ]
  },
  {
   "cell_type": "code",
   "execution_count": 15,
   "metadata": {},
   "outputs": [],
   "source": [
    "def start_heatmap():\n",
    "    HEATMAP = [0 for _ in range(GRID_SIZE**2)]"
   ]
  },
  {
   "cell_type": "code",
   "execution_count": 16,
   "metadata": {},
   "outputs": [],
   "source": [
    "def generate_heatmap():\n",
    "    print(HEATMAP)\n",
    "    S = sum(HEATMAP)\n",
    "    print(S)\n",
    "    img = Image.new(mode='L', size=(960,540))\n",
    "#     for i in range(10,100):\n",
    "#         for j in range(50,200):\n",
    "#             img.putpixel((i,j),255)\n",
    "    for row in range(GRID_SIZE):\n",
    "        for col in range(GRID_SIZE):\n",
    "            num = row*GRID_SIZE + col\n",
    "            val = HEATMAP[num]\n",
    "            \n",
    "            for i in range((col*960)//GRID_SIZE, ((col+1)*960)//GRID_SIZE):\n",
    "                for j in range((row*540)//GRID_SIZE, ((row+1)*540)//GRID_SIZE):\n",
    "                    img.putpixel((i,j),int(val*255/S))\n",
    "    return img"
   ]
  },
  {
   "cell_type": "code",
   "execution_count": 17,
   "metadata": {},
   "outputs": [],
   "source": [
    "def confusion_matrix():\n",
    "    S = sum(HEATMAP)\n",
    "    print(HEATMAP,S)\n",
    "    arr = [h*100/S for h in HEATMAP ]\n",
    "    df_cm = pd.DataFrame(np.array(arr).reshape(-1,GRID_SIZE), index = [i+1 for i in range(GRID_SIZE)],\n",
    "                  columns = [i+1 for i in range(GRID_SIZE)])\n",
    "    plt.figure(figsize = (19,11))\n",
    "    sn.heatmap(df_cm, annot=True)"
   ]
  },
  {
   "cell_type": "code",
   "execution_count": 10,
   "metadata": {},
   "outputs": [],
   "source": [
    "def test_model(roix=(250,250),roiy=(150,80),eye_size=1):\n",
    "    roi_offset = [roix[0],roiy[0]]\n",
    "\n",
    "    while True:\n",
    "        _,frame = cam.read()\n",
    "        frame = cv2.flip(frame,1)\n",
    "        gray = cv2.cvtColor(frame,cv2.COLOR_BGR2GRAY)\n",
    "\n",
    "        roi = gray[roi_offset[1]:roi_offset[1]+roiy[1], roi_offset[0]:roi_offset[0]+roix[1]]\n",
    "        eye,_ = find_eye(roi, scale_sizes=(70,101,10))\n",
    "\n",
    "        cv2.imshow('frame',roi)\n",
    "        if eye['maxmatch'] > 0.87:\n",
    "            \n",
    "            resized = cv2.resize(eye['img'],(69,40))\n",
    "            arr = np.asarray(resized).reshape(40,69,1)\n",
    "            \n",
    "            tl = eye['top_left']\n",
    "            tl = [(tl[0] + roix[0]) / 848, (tl[1] + roiy[0]) / 480]\n",
    "            \n",
    "            pred = loaded_model.predict([[arr],[tl]])\n",
    "            \n",
    "        else:\n",
    "            # print('no strong match')\n",
    "            pass\n",
    "        k = cv2.waitKey(2)\n",
    "        if k == 27:\n",
    "            break\n",
    "\n",
    "    cam.release()\n",
    "    cv2.destroyAllWindows()\n",
    "    return"
   ]
  },
  {
   "cell_type": "code",
   "execution_count": 11,
   "metadata": {},
   "outputs": [
    {
     "ename": "error",
     "evalue": "/build/opencv-L2vuMj/opencv-3.2.0+dfsg/modules/imgproc/src/color.cpp:9748: error: (-215) scn == 3 || scn == 4 in function cvtColor\n",
     "output_type": "error",
     "traceback": [
      "\u001b[0;31m---------------------------------------------------------------------------\u001b[0m",
      "\u001b[0;31merror\u001b[0m                                     Traceback (most recent call last)",
      "\u001b[0;32m<ipython-input-11-d08da2596b53>\u001b[0m in \u001b[0;36m<module>\u001b[0;34m\u001b[0m\n\u001b[0;32m----> 1\u001b[0;31m \u001b[0mtest_model\u001b[0m\u001b[0;34m(\u001b[0m\u001b[0;34m)\u001b[0m\u001b[0;34m\u001b[0m\u001b[0;34m\u001b[0m\u001b[0m\n\u001b[0m",
      "\u001b[0;32m<ipython-input-10-f86957202bf7>\u001b[0m in \u001b[0;36mtest_model\u001b[0;34m(roix, roiy, eye_size)\u001b[0m\n\u001b[1;32m      5\u001b[0m         \u001b[0m_\u001b[0m\u001b[0;34m,\u001b[0m\u001b[0mframe\u001b[0m \u001b[0;34m=\u001b[0m \u001b[0mcam\u001b[0m\u001b[0;34m.\u001b[0m\u001b[0mread\u001b[0m\u001b[0;34m(\u001b[0m\u001b[0;34m)\u001b[0m\u001b[0;34m\u001b[0m\u001b[0;34m\u001b[0m\u001b[0m\n\u001b[1;32m      6\u001b[0m         \u001b[0mframe\u001b[0m \u001b[0;34m=\u001b[0m \u001b[0mcv2\u001b[0m\u001b[0;34m.\u001b[0m\u001b[0mflip\u001b[0m\u001b[0;34m(\u001b[0m\u001b[0mframe\u001b[0m\u001b[0;34m,\u001b[0m\u001b[0;36m1\u001b[0m\u001b[0;34m)\u001b[0m\u001b[0;34m\u001b[0m\u001b[0;34m\u001b[0m\u001b[0m\n\u001b[0;32m----> 7\u001b[0;31m         \u001b[0mgray\u001b[0m \u001b[0;34m=\u001b[0m \u001b[0mcv2\u001b[0m\u001b[0;34m.\u001b[0m\u001b[0mcvtColor\u001b[0m\u001b[0;34m(\u001b[0m\u001b[0mframe\u001b[0m\u001b[0;34m,\u001b[0m\u001b[0mcv2\u001b[0m\u001b[0;34m.\u001b[0m\u001b[0mCOLOR_BGR2GRAY\u001b[0m\u001b[0;34m)\u001b[0m\u001b[0;34m\u001b[0m\u001b[0;34m\u001b[0m\u001b[0m\n\u001b[0m\u001b[1;32m      8\u001b[0m \u001b[0;34m\u001b[0m\u001b[0m\n\u001b[1;32m      9\u001b[0m         \u001b[0mroi\u001b[0m \u001b[0;34m=\u001b[0m \u001b[0mgray\u001b[0m\u001b[0;34m[\u001b[0m\u001b[0mroi_offset\u001b[0m\u001b[0;34m[\u001b[0m\u001b[0;36m1\u001b[0m\u001b[0;34m]\u001b[0m\u001b[0;34m:\u001b[0m\u001b[0mroi_offset\u001b[0m\u001b[0;34m[\u001b[0m\u001b[0;36m1\u001b[0m\u001b[0;34m]\u001b[0m\u001b[0;34m+\u001b[0m\u001b[0mroiy\u001b[0m\u001b[0;34m[\u001b[0m\u001b[0;36m1\u001b[0m\u001b[0;34m]\u001b[0m\u001b[0;34m,\u001b[0m \u001b[0mroi_offset\u001b[0m\u001b[0;34m[\u001b[0m\u001b[0;36m0\u001b[0m\u001b[0;34m]\u001b[0m\u001b[0;34m:\u001b[0m\u001b[0mroi_offset\u001b[0m\u001b[0;34m[\u001b[0m\u001b[0;36m0\u001b[0m\u001b[0;34m]\u001b[0m\u001b[0;34m+\u001b[0m\u001b[0mroix\u001b[0m\u001b[0;34m[\u001b[0m\u001b[0;36m1\u001b[0m\u001b[0;34m]\u001b[0m\u001b[0;34m]\u001b[0m\u001b[0;34m\u001b[0m\u001b[0;34m\u001b[0m\u001b[0m\n",
      "\u001b[0;31merror\u001b[0m: /build/opencv-L2vuMj/opencv-3.2.0+dfsg/modules/imgproc/src/color.cpp:9748: error: (-215) scn == 3 || scn == 4 in function cvtColor\n"
     ]
    }
   ],
   "source": [
    "test_model()"
   ]
  },
  {
   "cell_type": "code",
   "execution_count": 24,
   "metadata": {},
   "outputs": [],
   "source": [
    "cam = cv2.VideoCapture(0)\n",
    "# start_heatmap()\n",
    "while True:\n",
    "    clear_output(wait=True)\n",
    "    _,frame = cam.read()\n",
    "    frame = cv2.flip(frame,1)\n",
    "    gray = cv2.cvtColor(frame,cv2.COLOR_BGR2GRAY)\n",
    "\n",
    "    roi_offset = [200,100]\n",
    "    rw = 250\n",
    "    rh = 150\n",
    "    roi = gray[roi_offset[1]:roi_offset[1]+rh, roi_offset[0]:roi_offset[0]+rw]\n",
    "    eye,pupil = find_eye(roi, scale_sizes=(80,81,1))\n",
    "    \n",
    "    if eye['maxmatch'] > 0.75:\n",
    "\n",
    "        cv2.imshow('eye',eye['img'])\n",
    "\n",
    "        resized = cv2.resize(eye['img'],(65,40))\n",
    "        arr = np.asarray(resized).reshape(1,40,65,1)\n",
    "        \n",
    "        tl = eye['top_left']\n",
    "        tl = np.array([(tl[0] + roi_offset[0]) / 848, (tl[1] + roi_offset[1]) / 480]).reshape(1,2)\n",
    "\n",
    "        pred = loaded_model.predict([arr,tl])\n",
    "\n",
    "    #     print(arr.shape)\n",
    "#         pred = loaded_model.predict(np.array([arr]))[0]\n",
    "#     #     display(top_two(pred))\n",
    "#     #     display(pred)\n",
    "#         HEATMAP[np.argmax(pred)] += 1\n",
    "        row,col = convert_to_grid(pred)\n",
    "        wid = 1920 // GRID_SIZE\n",
    "        hgt = 1080 // GRID_SIZE\n",
    "\n",
    "        sx = int((col + 0.5) * wid)\n",
    "        sy = int((row + 0.5) * hgt)\n",
    "\n",
    "        command = 'xdotool mousemove '+str(sx)+' '+str(sy)\n",
    "        call(command,shell=True)\n",
    "    \n",
    "    cv2.imshow('roi',roi)\n",
    "    k = cv2.waitKey(2)\n",
    "    if k==27:\n",
    "        break\n",
    "    if k==ord('s'):\n",
    "        start_heatmap()\n",
    "        \n",
    "cam.release()\n",
    "cv2.destroyAllWindows()"
   ]
  },
  {
   "cell_type": "code",
   "execution_count": 48,
   "metadata": {},
   "outputs": [],
   "source": []
  },
  {
   "cell_type": "code",
   "execution_count": 29,
   "metadata": {},
   "outputs": [
    {
     "data": {
      "text/plain": [
       "'Hi'"
      ]
     },
     "metadata": {},
     "output_type": "display_data"
    }
   ],
   "source": []
  },
  {
   "cell_type": "code",
   "execution_count": 97,
   "metadata": {
    "scrolled": false
   },
   "outputs": [
    {
     "name": "stdout",
     "output_type": "stream",
     "text": [
      "[292, 211, 20, 130, 41, 75, 191, 25, 42, 645, 99, 47, 31, 78, 66, 35]\n",
      "2028\n"
     ]
    },
    {
     "data": {
      "image/png": "[encoded data removed]",
      "text/plain": [
       "<PIL.Image.Image image mode=L size=960x540 at 0x7FB6AA338D68>"
      ]
     },
     "execution_count": 97,
     "metadata": {},
     "output_type": "execute_result"
    }
   ],
   "source": [
    "generate_heatmap()"
   ]
  },
  {
   "cell_type": "code",
   "execution_count": 98,
   "metadata": {},
   "outputs": [
    {
     "name": "stdout",
     "output_type": "stream",
     "text": [
      "[292, 211, 20, 130, 41, 75, 191, 25, 42, 645, 99, 47, 31, 78, 66, 35] 2028\n"
     ]
    },
    {
     "data": {
      "image/png": "[encoded data removed]",
      "text/plain": [
       "<Figure size 1368x792 with 2 Axes>"
      ]
     },
     "metadata": {
      "needs_background": "light"
     },
     "output_type": "display_data"
    }
   ],
   "source": [
    "confusion_matrix()"
   ]
  }
 ],
 "metadata": {
  "kernelspec": {
   "display_name": "Python 3",
   "language": "python",
   "name": "python3"
  },
  "language_info": {
   "codemirror_mode": {
    "name": "ipython",
    "version": 3
   },
   "file_extension": ".py",
   "mimetype": "text/x-python",
   "name": "python",
   "nbconvert_exporter": "python",
   "pygments_lexer": "ipython3",
   "version": "3.6.9"
  }
 },
 "nbformat": 4,
 "nbformat_minor": 4
}
