{
 "cells": [
  {
   "cell_type": "code",
   "execution_count": 43,
   "metadata": {},
   "outputs": [],
   "source": [
    "import cv2\n",
    "import numpy as np\n",
    "import tensorflow as tf\n",
    "from tensorflow.keras.models import model_from_json\n",
    "from subprocess import call\n",
    "from IPython.display import display, clear_output\n",
    "from PIL import Image\n",
    "import seaborn as sn\n",
    "import pandas as pd\n",
    "import matplotlib.pyplot as plt"
   ]
  },
  {
   "cell_type": "code",
   "execution_count": 2,
   "metadata": {},
   "outputs": [
    {
     "name": "stdout",
     "output_type": "stream",
     "text": [
      "2.4.1\n"
     ]
    }
   ],
   "source": [
    "print(tf.__version__)"
   ]
  },
  {
   "cell_type": "code",
   "execution_count": 70,
   "metadata": {},
   "outputs": [],
   "source": [
    "model_name = './17 may/17_may'"
   ]
  },
  {
   "cell_type": "code",
   "execution_count": 71,
   "metadata": {},
   "outputs": [],
   "source": [
    "json_file = open(model_name+'.json', 'r')\n",
    "loaded_model_json = json_file.read()\n",
    "json_file.close()"
   ]
  },
  {
   "cell_type": "code",
   "execution_count": 72,
   "metadata": {},
   "outputs": [],
   "source": [
    "loaded_model = model_from_json(loaded_model_json)\n"
   ]
  },
  {
   "cell_type": "code",
   "execution_count": 73,
   "metadata": {},
   "outputs": [],
   "source": [
    "loaded_model.load_weights(model_name+\".h5\")\n"
   ]
  },
  {
   "cell_type": "code",
   "execution_count": null,
   "metadata": {},
   "outputs": [],
   "source": []
  },
  {
   "cell_type": "code",
   "execution_count": 24,
   "metadata": {},
   "outputs": [],
   "source": [
    "from helper import *"
   ]
  },
  {
   "cell_type": "code",
   "execution_count": null,
   "metadata": {},
   "outputs": [],
   "source": []
  },
  {
   "cell_type": "code",
   "execution_count": null,
   "metadata": {},
   "outputs": [],
   "source": []
  },
  {
   "cell_type": "code",
   "execution_count": 25,
   "metadata": {},
   "outputs": [],
   "source": [
    "GRID_SIZE = 4\n",
    "def convert_to_grid(arr):\n",
    "  n = np.argmax(arr)\n",
    "  # print(arr)\n",
    "  # return 'row '+str(n%grid_size)+', col '+str(n//grid_size)\n",
    "  return [n//GRID_SIZE, n%GRID_SIZE]"
   ]
  },
  {
   "cell_type": "code",
   "execution_count": null,
   "metadata": {},
   "outputs": [],
   "source": []
  },
  {
   "cell_type": "code",
   "execution_count": null,
   "metadata": {},
   "outputs": [],
   "source": []
  },
  {
   "cell_type": "code",
   "execution_count": 74,
   "metadata": {},
   "outputs": [],
   "source": [
    "HEATMAP = [0 for _ in range(GRID_SIZE**2)]"
   ]
  },
  {
   "cell_type": "code",
   "execution_count": 10,
   "metadata": {},
   "outputs": [],
   "source": [
    "def start_heatmap():\n",
    "    HEATMAP = [0 for _ in range(GRID_SIZE**2)]"
   ]
  },
  {
   "cell_type": "code",
   "execution_count": 11,
   "metadata": {},
   "outputs": [],
   "source": [
    "def generate_heatmap():\n",
    "    print(HEATMAP)\n",
    "    S = sum(HEATMAP)\n",
    "    print(S)\n",
    "    img = Image.new(mode='L', size=(960,540))\n",
    "#     for i in range(10,100):\n",
    "#         for j in range(50,200):\n",
    "#             img.putpixel((i,j),255)\n",
    "    for row in range(GRID_SIZE):\n",
    "        for col in range(GRID_SIZE):\n",
    "            num = row*GRID_SIZE + col\n",
    "            val = HEATMAP[num]\n",
    "            \n",
    "            for i in range((col*960)//GRID_SIZE, ((col+1)*960)//GRID_SIZE):\n",
    "                for j in range((row*540)//GRID_SIZE, ((row+1)*540)//GRID_SIZE):\n",
    "                    img.putpixel((i,j),int(val*255/S))\n",
    "    return img"
   ]
  },
  {
   "cell_type": "code",
   "execution_count": 12,
   "metadata": {},
   "outputs": [],
   "source": [
    "def confusion_matrix():\n",
    "    S = sum(HEATMAP)\n",
    "    print(HEATMAP,S)\n",
    "    arr = [h*100/S for h in HEATMAP ]\n",
    "    df_cm = pd.DataFrame(np.array(arr).reshape(-1,GRID_SIZE), index = [i+1 for i in range(GRID_SIZE)],\n",
    "                  columns = [i+1 for i in range(GRID_SIZE)])\n",
    "    plt.figure(figsize = (19,11))\n",
    "    sn.heatmap(df_cm, annot=True)"
   ]
  },
  {
   "cell_type": "code",
   "execution_count": 13,
   "metadata": {},
   "outputs": [],
   "source": [
    "def test_model(roix=(250,250),roiy=(150,80),eye_size=1):\n",
    "    roi_offset = [roix[0],roiy[0]]\n",
    "\n",
    "    while True:\n",
    "        _,frame = cam.read()\n",
    "        frame = cv2.flip(frame,1)\n",
    "        gray = cv2.cvtColor(frame,cv2.COLOR_BGR2GRAY)\n",
    "\n",
    "        roi = gray[roi_offset[1]:roi_offset[1]+roiy[1], roi_offset[0]:roi_offset[0]+roix[1]]\n",
    "        eye,_ = find_eye(roi, scale_sizes=(70,101,10))\n",
    "\n",
    "        cv2.imshow('frame',roi)\n",
    "        if eye['maxmatch'] > 0.87:\n",
    "            \n",
    "            resized = cv2.resize(eye['img'],(69,40))\n",
    "            arr = np.asarray(resized).reshape(40,69,1)\n",
    "            \n",
    "            tl = eye['top_left']\n",
    "            tl = [(tl[0] + roix[0]) / 848, (tl[1] + roiy[0]) / 480]\n",
    "            \n",
    "            pred = loaded_model.predict([[arr],[tl]])\n",
    "            \n",
    "        else:\n",
    "            # print('no strong match')\n",
    "            pass\n",
    "        k = cv2.waitKey(2)\n",
    "        if k == 27:\n",
    "            break\n",
    "\n",
    "    cam.release()\n",
    "    cv2.destroyAllWindows()\n",
    "    return"
   ]
  },
  {
   "cell_type": "code",
   "execution_count": 47,
   "metadata": {},
   "outputs": [],
   "source": [
    "hist = [0 for _ in range(11)]"
   ]
  },
  {
   "cell_type": "code",
   "execution_count": 95,
   "metadata": {},
   "outputs": [
    {
     "data": {
      "text/plain": [
       "'capture state: off'"
      ]
     },
     "metadata": {},
     "output_type": "display_data"
    },
    {
     "data": {
      "text/plain": [
       "'Prediction: [2, 0] | Confidence: 99.99946355819702'"
      ]
     },
     "metadata": {},
     "output_type": "display_data"
    }
   ],
   "source": [
    "cam = cv2.VideoCapture(0)\n",
    "start_heatmap()\n",
    "toggle = 'off'\n",
    "while True:\n",
    "    _,frame = cam.read()\n",
    "    frame = cv2.flip(frame,1)\n",
    "    gray = cv2.cvtColor(frame,cv2.COLOR_BGR2GRAY)\n",
    "#     gray = gray + gray\n",
    "    \n",
    "    roi_offset = [270,150]\n",
    "    rw = 308\n",
    "    rh = 100\n",
    "    roi = gray[roi_offset[1]:roi_offset[1]+rh, roi_offset[0]:roi_offset[0]+rw]\n",
    "    eye,pupil = find_eye(roi, scale_sizes=(80,116,15))\n",
    "    \n",
    "    if eye['maxmatch'] > 0.87:\n",
    "\n",
    "        cv2.imshow('eye',eye['img'])\n",
    "\n",
    "        resized = cv2.resize(eye['img'],(65,40))\n",
    "        arr = np.asarray(resized).reshape(1,40,65,1)\n",
    "        \n",
    "        tl = eye['top_left']\n",
    "        tl = np.array([(tl[0] + roi_offset[0]) / 848, (tl[1] + roi_offset[1]) / 480]).reshape(1,2)\n",
    "\n",
    "        # ~~~~~~~~~~~~~~~~~~~\n",
    "        pred = loaded_model.predict([arr,tl])[0]\n",
    "        # ~~~~~~~~~~~~~~~~~~~\n",
    "\n",
    "        clear_output(wait=True)\n",
    "        display('capture state: '+toggle)\n",
    "\n",
    "        am = np.argmax(pred)\n",
    "        \n",
    "        row,col = convert_to_grid(pred)\n",
    "        wid = 1920 // GRID_SIZE\n",
    "        hgt = 1080 // GRID_SIZE\n",
    "\n",
    "        sx = int((col + 0.5) * wid)\n",
    "        sy = int((row + 0.5) * hgt)\n",
    "        \n",
    "        conf = 100*pred[am]\n",
    "        display('Prediction: '+str([row,col])+' | Confidence: '+str(conf))\n",
    "\n",
    "        if conf >= 80:\n",
    "            command = 'xdotool mousemove '+str(sx)+' '+str(sy)\n",
    "            call(command,shell=True)\n",
    "    \n",
    "    cv2.imshow('roi',roi)\n",
    "    k = cv2.waitKey(2)\n",
    "    if k==27:\n",
    "        break\n",
    "    if k==ord(' '):\n",
    "        toggle = 'off' if toggle == 'on' else 'on'\n",
    "        \n",
    "        \n",
    "cam.release()\n",
    "cv2.destroyAllWindows()"
   ]
  },
  {
   "cell_type": "code",
   "execution_count": 83,
   "metadata": {},
   "outputs": [
    {
     "data": {
      "text/plain": [
       "'on'"
      ]
     },
     "execution_count": 83,
     "metadata": {},
     "output_type": "execute_result"
    }
   ],
   "source": []
  },
  {
   "cell_type": "code",
   "execution_count": 87,
   "metadata": {},
   "outputs": [
    {
     "data": {
      "text/plain": [
       "[165, 43, 35, 56, 34, 39, 15, 9, 54, 81, 32, 41, 85, 26, 11, 77]"
      ]
     },
     "execution_count": 87,
     "metadata": {},
     "output_type": "execute_result"
    }
   ],
   "source": [
    "HEATMAP"
   ]
  },
  {
   "cell_type": "code",
   "execution_count": 88,
   "metadata": {
    "scrolled": false
   },
   "outputs": [
    {
     "name": "stdout",
     "output_type": "stream",
     "text": [
      "[165, 43, 35, 56, 34, 39, 15, 9, 54, 81, 32, 41, 85, 26, 11, 77]\n",
      "803\n"
     ]
    },
    {
     "data": {
      "image/png": "[encoded data removed]",
      "text/plain": [
       "<PIL.Image.Image image mode=L size=960x540 at 0x7FA829FED908>"
      ]
     },
     "execution_count": 88,
     "metadata": {},
     "output_type": "execute_result"
    }
   ],
   "source": [
    "generate_heatmap()"
   ]
  },
  {
   "cell_type": "code",
   "execution_count": 55,
   "metadata": {},
   "outputs": [
    {
     "name": "stdout",
     "output_type": "stream",
     "text": [
      "[111, 84, 66, 57, 29, 94, 306, 113, 13, 117, 993, 508, 9, 47, 140, 19] 2706\n"
     ]
    },
    {
     "data": {
      "image/png": "[encoded data removed]",
      "text/plain": [
       "<Figure size 1368x792 with 2 Axes>"
      ]
     },
     "metadata": {
      "needs_background": "light"
     },
     "output_type": "display_data"
    }
   ],
   "source": [
    "confusion_matrix()"
   ]
  }
 ],
 "metadata": {
  "kernelspec": {
   "display_name": "Python 3",
   "language": "python",
   "name": "python3"
  },
  "language_info": {
   "codemirror_mode": {
    "name": "ipython",
    "version": 3
   },
   "file_extension": ".py",
   "mimetype": "text/x-python",
   "name": "python",
   "nbconvert_exporter": "python",
   "pygments_lexer": "ipython3",
   "version": "3.6.9"
  }
 },
 "nbformat": 4,
 "nbformat_minor": 4
}
